{
 "cells": [
  {
   "cell_type": "markdown",
   "metadata": {},
   "source": [
    "### Example: Simulating Granger Causality\n",
    "\n",
    "This example illustrates how to test Granger causality between two time series. \n",
    "\n",
    "1. **Time Series Data:**\n",
    "\n",
    "   We generate two simple time series as follows:\n",
    "\n",
    "   \\begin{align}\n",
    "   Y^1_k &= 0.5 Y^1_{k-1} + \\epsilon^1_k, \\quad \\epsilon^1_k \\sim \\mathcal{N}(0, 1) \\\\\n",
    "   Y^2_k &= 0.3 Y^2_{k-1} + 0.7 Y^1_{k-1} + \\epsilon^2_k, \\quad \\epsilon^2_k \\sim \\mathcal{N}(0, 1)\n",
    "   \\end{align}\n",
    "\n",
    " \n",
    "2. **Simulated Example in Python:**\n",
    "\n",
    "   The following Python code simulates the time series and performs a Granger causality test."
   ],
   "id": "bd319316ac8f7aad"
  },
  {
   "cell_type": "code",
   "execution_count": 2,
   "metadata": {
    "ExecuteTime": {
     "end_time": "2024-09-09T14:30:00.329409Z",
     "start_time": "2024-09-09T14:30:00.319926Z"
    }
   },
   "outputs": [
    {
     "name": "stdout",
     "output_type": "stream",
     "text": [
      "\n",
      "Granger Causality\n",
      "number of lags (no zero) 1\n",
      "ssr based F test:         F=60.0859 , p=0.0000  , df_denom=96, df_num=1\n",
      "ssr based chi2 test:   chi2=61.9636 , p=0.0000  , df=1\n",
      "likelihood ratio test: chi2=48.1198 , p=0.0000  , df=1\n",
      "parameter F test:         F=60.0859 , p=0.0000  , df_denom=96, df_num=1\n"
     ]
    },
    {
     "data": {
      "text/plain": "{1: ({'ssr_ftest': (60.085947176376095, 9.499641488258728e-12, 96.0, 1),\n   'ssr_chi2test': (61.96363302563783, 3.4985924173652664e-15, 1),\n   'lrtest': (48.11980214313297, 4.009566780537828e-12, 1),\n   'params_ftest': (60.085947176376095, 9.499641488258728e-12, 96.0, 1.0)},\n  [<statsmodels.regression.linear_model.RegressionResultsWrapper at 0x3098fc0d0>,\n   <statsmodels.regression.linear_model.RegressionResultsWrapper at 0x3098fc790>,\n   array([[0., 1., 0.]])])}"
     },
     "execution_count": 2,
     "metadata": {},
     "output_type": "execute_result"
    }
   ],
   "source": [
    "import numpy as np\n",
    "import pandas as pd\n",
    "from statsmodels.tsa.stattools import grangercausalitytests\n",
    "\n",
    "# Simulating time series data\n",
    "np.random.seed(42)\n",
    "n = 100\n",
    "epsilon1 = np.random.normal(0, 1, n)\n",
    "epsilon2 = np.random.normal(0, 1, n)\n",
    "\n",
    "Y1 = np.zeros(n)\n",
    "Y2 = np.zeros(n)\n",
    "\n",
    "# Generating Y1 and Y2 based on the equations\n",
    "for k in range(1, n):\n",
    "    Y1[k] = 0.5 * Y1[k-1] + epsilon1[k]\n",
    "    Y2[k] = 0.3 * Y2[k-1] + 0.7 * Y1[k-1] + epsilon2[k]\n",
    "\n",
    "# Combine into a DataFrame\n",
    "data = pd.DataFrame({'Y1': Y1, 'Y2': Y2})\n",
    "\n",
    "# Performing Granger causality test\n",
    "grangercausalitytests(data[['Y2', 'Y1']], maxlag=1)\n"
   ],
   "id": "3d85de7225662d86"
  },
  {
   "cell_type": "markdown",
   "metadata": {},
   "source": [
    "4. **Interpretation of Results:**\n",
    "\n",
    "   If the unrestricted model performs significantly better than the restricted model, it suggests that the first signal Granger-causes the second one. The output from the F-test will provide this comparison."
   ],
   "id": "110e030f0d4aed5b"
  },
  {
   "cell_type": "code",
   "execution_count": null,
   "outputs": [],
   "source": [],
   "metadata": {
    "collapsed": false
   },
   "id": "acfbe90c90702d26"
  }
 ],
 "metadata": {
  "kernelspec": {
   "name": "python3",
   "display_name": "Python 3",
   "language": "python"
  },
  "language_info": {
   "name": "python",
   "version": "3.8.5",
   "mimetype": "text/x-python",
   "codemirror_mode": {
    "name": "ipython",
    "version": 3
   },
   "pygments_lexer": "ipython3",
   "nbconvert_exporter": "python",
   "file_extension": ".py"
  }
 },
 "nbformat": 4,
 "nbformat_minor": 5
}
